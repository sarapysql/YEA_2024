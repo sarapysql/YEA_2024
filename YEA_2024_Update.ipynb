{
  "nbformat": 4,
  "nbformat_minor": 0,
  "metadata": {
    "colab": {
      "provenance": [],
      "authorship_tag": "ABX9TyObF5oYo7tjxCdRr5dOYtXP",
      "include_colab_link": true
    },
    "kernelspec": {
      "name": "python3",
      "display_name": "Python 3"
    },
    "language_info": {
      "name": "python"
    }
  },
  "cells": [
    {
      "cell_type": "markdown",
      "metadata": {
        "id": "view-in-github",
        "colab_type": "text"
      },
      "source": [
        "<a href=\"https://colab.research.google.com/github/sarapysql/YEA_2024/blob/main/YEA_2024_Update.ipynb\" target=\"_parent\"><img src=\"https://colab.research.google.com/assets/colab-badge.svg\" alt=\"Open In Colab\"/></a>"
      ]
    },
    {
      "cell_type": "code",
      "execution_count": null,
      "metadata": {
        "id": "-1mXdfX1wYb7"
      },
      "outputs": [],
      "source": [
        "import pandas as pd\n",
        "from sqlalchemy import create_engine"
      ]
    },
    {
      "cell_type": "code",
      "source": [
        "# Step 1: Read the CSV file\n",
        "csv_file = 'path_to_your_csv_file.csv'\n",
        "df = pd.read_csv(csv_file)"
      ],
      "metadata": {
        "id": "AHRCF0djwgrI"
      },
      "execution_count": null,
      "outputs": []
    },
    {
      "cell_type": "code",
      "source": [
        "# Display the first few rows of the DataFrame to verify data\n",
        "print(df.head())"
      ],
      "metadata": {
        "id": "UCkU9cf1woOW"
      },
      "execution_count": null,
      "outputs": []
    },
    {
      "cell_type": "code",
      "source": [
        "# Step 2: Connect to Azure SQL Database\n",
        "# Replace with your actual Azure SQL Database credentials\n",
        "server = 'your_server.database.windows.net'  # e.g., myserver.database.windows.net\n",
        "database = 'your_database_name'\n",
        "username = 'your_username'\n",
        "password = 'your_password'"
      ],
      "metadata": {
        "id": "5iLLLxLlwwp-"
      },
      "execution_count": null,
      "outputs": []
    },
    {
      "cell_type": "markdown",
      "source": [],
      "metadata": {
        "id": "eyO5tEmQwizL"
      }
    },
    {
      "cell_type": "code",
      "source": [
        "# Create an SQLAlchemy engine\n",
        "connection_string = f\"mssql+pyodbc://{username}:{password}@{server}/{database}?driver=ODBC+Driver+17+for+SQL+Server\"\n",
        "engine = create_engine(connection_string)"
      ],
      "metadata": {
        "id": "23gnTejBwxzQ"
      },
      "execution_count": null,
      "outputs": []
    },
    {
      "cell_type": "code",
      "source": [
        "# Step 3: Write DataFrame to Azure SQL Database\n",
        "table_name = 'employee_kra_kpi'  # Replace with your table name\n",
        "try:\n",
        "    # If table doesn't exist, it will be created; set 'if_exists' to 'replace' to overwrite or 'append' to add rows\n",
        "    df.to_sql(table_name, engine, if_exists='replace', index=False)\n",
        "    print(f\"Data successfully updated in the table '{table_name}' in Azure SQL Database.\")\n",
        "except Exception as e:\n",
        "    print(f\"An error occurred: {e}\")"
      ],
      "metadata": {
        "id": "JaPET6qDw8Jl"
      },
      "execution_count": null,
      "outputs": []
    }
  ]
}