{
  "nbformat": 4,
  "nbformat_minor": 0,
  "metadata": {
    "colab": {
      "provenance": [],
      "authorship_tag": "ABX9TyNO96fZ7JpOYHPA0crO2+Ns",
      "include_colab_link": true
    },
    "kernelspec": {
      "name": "python3",
      "display_name": "Python 3"
    },
    "language_info": {
      "name": "python"
    }
  },
  "cells": [
    {
      "cell_type": "markdown",
      "metadata": {
        "id": "view-in-github",
        "colab_type": "text"
      },
      "source": [
        "<a href=\"https://colab.research.google.com/github/sarapysql/YEA_2024/blob/main/YEA_2024_Update.ipynb\" target=\"_parent\"><img src=\"https://colab.research.google.com/assets/colab-badge.svg\" alt=\"Open In Colab\"/></a>"
      ]
    },
    {
      "cell_type": "code",
      "execution_count": null,
      "metadata": {
        "id": "-1mXdfX1wYb7"
      },
      "outputs": [],
      "source": [
        "import pandas as pd\n",
        "from sqlalchemy import create_engine"
      ]
    },
    {
      "cell_type": "code",
      "source": [
        "# Step 1: Read the CSV file\n",
        "csv_file = 'path_to_your_csv_file.csv'\n",
        "df = pd.read_csv(csv_file)"
      ],
      "metadata": {
        "id": "AHRCF0djwgrI"
      },
      "execution_count": null,
      "outputs": []
    },
    {
      "cell_type": "code",
      "source": [
        "# Display the first few rows of the DataFrame to verify data\n",
        "print(df.head())"
      ],
      "metadata": {
        "id": "UCkU9cf1woOW"
      },
      "execution_count": null,
      "outputs": []
    },
    {
      "cell_type": "code",
      "source": [
        "# Step 2: Connect to PostgreSQL database\n",
        "# Replace the placeholders with your actual database credentials\n",
        "db_user = 'your_username'\n",
        "db_password = 'your_password'\n",
        "db_host = 'your_host'\n",
        "db_port = 'your_port'\n",
        "db_name = 'your_database_name'"
      ],
      "metadata": {
        "id": "5iLLLxLlwwp-"
      },
      "execution_count": null,
      "outputs": []
    },
    {
      "cell_type": "markdown",
      "source": [],
      "metadata": {
        "id": "eyO5tEmQwizL"
      }
    },
    {
      "cell_type": "code",
      "source": [
        "# Create an SQLAlchemy engine\n",
        "engine = create_engine(f'postgresql://{db_user}:{db_password}@{db_host}:{db_port}/{db_name}')"
      ],
      "metadata": {
        "id": "23gnTejBwxzQ"
      },
      "execution_count": null,
      "outputs": []
    },
    {
      "cell_type": "code",
      "source": [
        "# Step 3: Update or insert data into PostgreSQL table\n",
        "table_name = 'employee_kra_kpi'"
      ],
      "metadata": {
        "id": "vpd-XaW6w0hr"
      },
      "execution_count": null,
      "outputs": []
    },
    {
      "cell_type": "code",
      "source": [
        "# Write the DataFrame to PostgreSQL\n",
        "try:\n",
        "    # Replace 'replace' with 'append' if you don't want to overwrite the table\n",
        "    df.to_sql(table_name, engine, if_exists='replace', index=False)\n",
        "    print(f\"Data successfully inserted into the table {table_name}.\")\n",
        "except Exception as e:\n",
        "    print(f\"An error occurred: {e}\")"
      ],
      "metadata": {
        "id": "JaPET6qDw8Jl"
      },
      "execution_count": null,
      "outputs": []
    }
  ]
}